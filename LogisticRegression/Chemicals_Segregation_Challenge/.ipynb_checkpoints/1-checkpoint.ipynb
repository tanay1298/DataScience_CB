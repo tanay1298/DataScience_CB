{
 "cells": [
  {
   "cell_type": "code",
   "execution_count": 20,
   "metadata": {},
   "outputs": [],
   "source": [
    "import pandas as pd\n",
    "import numpy as np"
   ]
  },
  {
   "cell_type": "code",
   "execution_count": 21,
   "metadata": {},
   "outputs": [],
   "source": [
    "X_Train = pd.read_csv('Training Data/Logistic_X_Train.csv')\n",
    "Y_Train=pd.read_csv('Training Data/Logistic_Y_Train.csv')"
   ]
  },
  {
   "cell_type": "code",
   "execution_count": 22,
   "metadata": {},
   "outputs": [],
   "source": [
    "X_Train=X_Train.values\n",
    "Y_Train=Y_Train.values"
   ]
  },
  {
   "cell_type": "code",
   "execution_count": 23,
   "metadata": {},
   "outputs": [],
   "source": [
    "import matplotlib.pyplot as plt"
   ]
  },
  {
   "cell_type": "code",
   "execution_count": 24,
   "metadata": {},
   "outputs": [
    {
     "data": {
      "text/plain": [
       "(3000, 1)"
      ]
     },
     "execution_count": 24,
     "metadata": {},
     "output_type": "execute_result"
    }
   ],
   "source": [
    "Y_Train.shape"
   ]
  },
  {
   "cell_type": "code",
   "execution_count": 25,
   "metadata": {},
   "outputs": [
    {
     "data": {
      "text/plain": [
       "<matplotlib.collections.PathCollection at 0x7f0edffc4470>"
      ]
     },
     "execution_count": 25,
     "metadata": {},
     "output_type": "execute_result"
    },
    {
     "data": {
      "image/png": "[encoded data removed]",
      "text/plain": [
       "<Figure size 432x288 with 1 Axes>"
      ]
     },
     "metadata": {
      "needs_background": "light"
     },
     "output_type": "display_data"
    }
   ],
   "source": [
    "plt.scatter(X_Train[:,0],Y_Train)"
   ]
  },
  {
   "cell_type": "code",
   "execution_count": 26,
   "metadata": {},
   "outputs": [],
   "source": [
    "def sigmoid(z):\n",
    "    return (1.0/(1.0+np.exp(-1.0*z)))\n",
    "def hypothesis(x,w,b):\n",
    "    h=np.dot(x,w)+b\n",
    "    return sigmoid(h)\n",
    "def error(Y_Train,X_Train,w,b):\n",
    "    err=0.0\n",
    "    m=X_Train.shape[0]\n",
    "    for i in range(m):\n",
    "        h=hypothesis(X_Train[i],w,b)\n",
    "        err+=Y_Train[i]*np.log2(h)+(1-Y_Train[i])*np.log2(1-h)\n",
    "    return -err/m\n",
    "def gradient(Y_Train,X_Train,w,b):\n",
    "    grad_w=np.zeros(w.shape)\n",
    "    grad_b=0.0\n",
    "    m=Y_Train.shape[0]\n",
    "    for i in range(m):\n",
    "        h=hypothesis(X_Train[i],w,b)\n",
    "        grad_w+=(Y_Train[i]-h)*X_Train[i]\n",
    "        grad_b+=(Y_Train[i]-h)\n",
    "    grad_w/=m\n",
    "    grad_b/=m\n",
    "    return [grad_w,grad_b]\n",
    "def grad_descent(Y_Train,X_Train,w,b,learning_rate=0.1):\n",
    "    [grad_w,grad_b]=gradient(Y_Train,X_Train,w,b)\n",
    "    w+=grad_w*learning_rate\n",
    "    b+=grad_b*learning_rate\n",
    "    return w,b\n",
    "def prediction(x,w,b):\n",
    "    h=hypothesis(x,w,b)\n",
    "    if h<0.5:\n",
    "        return 0\n",
    "    else:\n",
    "        return 1\n",
    "def get_acc(Y_Train,X_Train,w,b):\n",
    "    m=Y_Train.shape[0]\n",
    "    Y_Pred=[]\n",
    "    for i in range(m):\n",
    "        pred=prediction(X_Train[i],w,b)\n",
    "        Y_Pred.append(pred)\n",
    "    Y_Pred=np.array(Y_Pred)\n",
    "    return float(((Y_Train==Y_Pred).sum())/m)"
   ]
  },
  {
   "cell_type": "code",
   "execution_count": 27,
   "metadata": {},
   "outputs": [],
   "source": [
    "w=np.random.random(X_Train.shape[1])\n",
    "b=np.random.random()"
   ]
  },
  {
   "cell_type": "code",
   "execution_count": 28,
   "metadata": {},
   "outputs": [],
   "source": [
    "error=[]\n",
    "acc=[]"
   ]
  },
  {
   "cell_type": "code",
   "execution_count": null,
   "metadata": {},
   "outputs": [],
   "source": [
    "for i in range(100):\n",
    "    W,B=grad_descent(Y_Train,X_Train,w,b)\n",
    "    a=get_acc(Y_Train,X_Train,w,b)\n",
    "    acc.append(a)"
   ]
  },
  {
   "cell_type": "code",
   "execution_count": null,
   "metadata": {},
   "outputs": [],
   "source": [
    "plt.plot(acc)\n"
   ]
  },
  {
   "cell_type": "code",
   "execution_count": null,
   "metadata": {},
   "outputs": [],
   "source": [
    "print(acc[-1])"
   ]
  },
  {
   "cell_type": "code",
   "execution_count": null,
   "metadata": {},
   "outputs": [],
   "source": [
    "print(\"hey\")"
   ]
  }
 ],
 "metadata": {
  "kernelspec": {
   "display_name": "Python 3",
   "language": "python",
   "name": "python3"
  },
  "language_info": {
   "codemirror_mode": {
    "name": "ipython",
    "version": 3
   },
   "file_extension": ".py",
   "mimetype": "text/x-python",
   "name": "python",
   "nbconvert_exporter": "python",
   "pygments_lexer": "ipython3",
   "version": "3.6.9"
  }
 },
 "nbformat": 4,
 "nbformat_minor": 2
}
